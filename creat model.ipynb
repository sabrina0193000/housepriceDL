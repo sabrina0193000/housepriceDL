{
 "cells": [
  {
   "cell_type": "code",
   "execution_count": 36,
   "metadata": {},
   "outputs": [],
   "source": [
    "import pandas as pd\n",
    "import numpy as np\n",
    "import tensorflow as tf\n",
    "import matplotlib as plt\n",
    "from sklearn.model_selection import train_test_split\n",
    "from tensorflow.keras.models import Sequential\n",
    "from tensorflow.keras.layers import Input, Dense, Activation, Dropout\n",
    "from tensorflow.keras.optimizers import Adam\n",
    "tf.compat.v1.reset_default_graph()\n",
    "\n",
    "df = pd.read_csv('house_data-no.csv')\n",
    "\n",
    "y = df['建物單價元/坪']\n",
    "X = df.drop(['建物單價元/坪'], axis=1)\n",
    "\n",
    "X_train, X_test, y_train, y_test = train_test_split(X, y, test_size=0.3)\n",
    "\n",
    "X_train = np.array(X_train)\n",
    "X_test = np.array(X_test)\n",
    "y_train = np.array(y_train)\n",
    "y_test = np.array(y_test)\n",
    "\n"
   ]
  },
  {
   "cell_type": "code",
   "execution_count": 37,
   "metadata": {},
   "outputs": [
    {
     "name": "stdout",
     "output_type": "stream",
     "text": [
      "(100594, 74)\n",
      "(100594,)\n"
     ]
    }
   ],
   "source": [
    "print(X_train.shape)\n",
    "print(y_train.shape)"
   ]
  },
  {
   "cell_type": "code",
   "execution_count": 38,
   "metadata": {},
   "outputs": [],
   "source": [
    "model = Sequential()\n",
    "\n",
    "model.add(Dense(X_train.shape[1], activation='relu'))\n",
    "model.add(Dense(32, activation='relu'))\n",
    "# model.add(Dropout(0.2))\n",
    "\n",
    "model.add(Dense(64, activation='relu'))\n",
    "# model.add(Dropout(0.2))\n",
    "\n",
    "model.add(Dense(128, activation='relu'))\n",
    "# # model.add(Dropout(0.2))\n",
    "\n",
    "model.add(Dense(256, activation='relu'))\n",
    "# model.add(Dropout(0.1))\n",
    "model.add(Dense(512, activation='relu'))\n",
    "model.add(Dense(1))\n",
    "\n",
    "model.compile(optimizer=Adam(0.001), loss='mse')\n",
    "\n"
   ]
  },
  {
   "cell_type": "code",
   "execution_count": 39,
   "metadata": {},
   "outputs": [],
   "source": [
    "# model.summary()"
   ]
  },
  {
   "cell_type": "code",
   "execution_count": 40,
   "metadata": {},
   "outputs": [
    {
     "name": "stdout",
     "output_type": "stream",
     "text": [
      "Epoch 1/100\n",
      "3354/3354 [==============================] - 6s 2ms/step - loss: 0.3264 - val_loss: 0.1041\n",
      "Epoch 2/100\n",
      "3354/3354 [==============================] - 7s 2ms/step - loss: 0.1043 - val_loss: 0.0964\n",
      "Epoch 3/100\n",
      "3354/3354 [==============================] - 8s 2ms/step - loss: 0.0987 - val_loss: 0.0976\n",
      "Epoch 4/100\n",
      "3354/3354 [==============================] - 8s 2ms/step - loss: 0.0973 - val_loss: 0.0939\n",
      "Epoch 5/100\n",
      "3354/3354 [==============================] - 9s 3ms/step - loss: 0.0961 - val_loss: 0.0965\n",
      "Epoch 6/100\n",
      "3354/3354 [==============================] - 8s 2ms/step - loss: 0.0941 - val_loss: 0.0936\n",
      "Epoch 7/100\n",
      "3354/3354 [==============================] - 8s 2ms/step - loss: 0.0916 - val_loss: 0.0934\n",
      "Epoch 8/100\n",
      "3354/3354 [==============================] - 8s 2ms/step - loss: 0.0899 - val_loss: 0.0919\n",
      "Epoch 9/100\n",
      "3354/3354 [==============================] - 8s 2ms/step - loss: 0.0886 - val_loss: 0.1017\n",
      "Epoch 10/100\n",
      "3354/3354 [==============================] - 8s 2ms/step - loss: 0.0910 - val_loss: 0.0914\n",
      "Epoch 11/100\n",
      "3354/3354 [==============================] - 8s 2ms/step - loss: 0.0899 - val_loss: 0.0915\n",
      "Epoch 12/100\n",
      "3354/3354 [==============================] - 8s 2ms/step - loss: 0.0875 - val_loss: 0.0921\n",
      "Epoch 13/100\n",
      "3354/3354 [==============================] - 8s 2ms/step - loss: 0.0872 - val_loss: 0.0936\n",
      "Epoch 14/100\n",
      "3354/3354 [==============================] - 8s 2ms/step - loss: 0.0857 - val_loss: 0.0928\n",
      "Epoch 15/100\n",
      "3354/3354 [==============================] - 8s 2ms/step - loss: 0.0859 - val_loss: 0.0916\n",
      "Epoch 16/100\n",
      "3354/3354 [==============================] - 9s 3ms/step - loss: 0.0868 - val_loss: 0.0909\n",
      "Epoch 17/100\n",
      "3354/3354 [==============================] - 9s 3ms/step - loss: 0.0849 - val_loss: 0.0935\n",
      "Epoch 18/100\n",
      "3354/3354 [==============================] - 9s 3ms/step - loss: 0.0845 - val_loss: 0.0917\n",
      "Epoch 19/100\n",
      "3354/3354 [==============================] - 12s 4ms/step - loss: 0.0860 - val_loss: 0.0920\n",
      "Epoch 20/100\n",
      "3354/3354 [==============================] - 15s 4ms/step - loss: 0.0852 - val_loss: 0.0914\n",
      "Epoch 21/100\n",
      "3354/3354 [==============================] - 8s 2ms/step - loss: 0.0834 - val_loss: 0.0937\n",
      "Epoch 22/100\n",
      "3354/3354 [==============================] - 8s 2ms/step - loss: 0.0844 - val_loss: 0.0924\n",
      "Epoch 23/100\n",
      "3354/3354 [==============================] - 8s 2ms/step - loss: 0.0818 - val_loss: 0.0919\n",
      "Epoch 24/100\n",
      "3354/3354 [==============================] - 8s 2ms/step - loss: 0.0811 - val_loss: 0.0918\n",
      "Epoch 25/100\n",
      "3354/3354 [==============================] - 7s 2ms/step - loss: 0.0809 - val_loss: 0.0913\n",
      "Epoch 26/100\n",
      "3354/3354 [==============================] - 8s 2ms/step - loss: 0.0808 - val_loss: 0.0911\n",
      "Epoch 27/100\n",
      "3354/3354 [==============================] - 8s 2ms/step - loss: 0.0812 - val_loss: 0.0916\n",
      "Epoch 28/100\n",
      "3354/3354 [==============================] - 8s 2ms/step - loss: 0.0811 - val_loss: 0.0921\n",
      "Epoch 29/100\n",
      "3354/3354 [==============================] - 7s 2ms/step - loss: 0.0811 - val_loss: 0.0933\n",
      "Epoch 30/100\n",
      "3354/3354 [==============================] - 8s 3ms/step - loss: 0.0806 - val_loss: 0.0946\n",
      "Epoch 31/100\n",
      "3354/3354 [==============================] - 8s 2ms/step - loss: 0.0796 - val_loss: 0.0925\n",
      "Epoch 32/100\n",
      "3354/3354 [==============================] - 9s 3ms/step - loss: 0.0802 - val_loss: 0.0958\n",
      "Epoch 33/100\n",
      "3354/3354 [==============================] - 8s 2ms/step - loss: 0.0789 - val_loss: 0.0937\n",
      "Epoch 34/100\n",
      "3354/3354 [==============================] - 8s 2ms/step - loss: 0.0803 - val_loss: 0.0926\n",
      "Epoch 35/100\n",
      "3354/3354 [==============================] - 8s 2ms/step - loss: 0.0784 - val_loss: 0.0913\n",
      "Epoch 36/100\n",
      "3354/3354 [==============================] - 8s 2ms/step - loss: 0.0778 - val_loss: 0.0922\n",
      "Epoch 37/100\n",
      "3354/3354 [==============================] - 8s 2ms/step - loss: 0.0785 - val_loss: 0.0927\n",
      "Epoch 38/100\n",
      "3354/3354 [==============================] - 9s 3ms/step - loss: 0.0794 - val_loss: 0.0939\n",
      "Epoch 39/100\n",
      "3354/3354 [==============================] - 12s 4ms/step - loss: 0.0787 - val_loss: 0.0927\n",
      "Epoch 40/100\n",
      "3354/3354 [==============================] - 12s 4ms/step - loss: 0.0778 - val_loss: 0.0922\n",
      "Epoch 41/100\n",
      "3354/3354 [==============================] - 11s 3ms/step - loss: 0.0772 - val_loss: 0.0928\n",
      "Epoch 42/100\n",
      "3354/3354 [==============================] - 8s 2ms/step - loss: 0.0773 - val_loss: 0.0920\n",
      "Epoch 43/100\n",
      "3354/3354 [==============================] - 7s 2ms/step - loss: 0.0767 - val_loss: 0.0927\n",
      "Epoch 44/100\n",
      "3354/3354 [==============================] - 8s 2ms/step - loss: 0.0784 - val_loss: 0.0935\n",
      "Epoch 45/100\n",
      "3354/3354 [==============================] - 8s 2ms/step - loss: 0.0776 - val_loss: 0.0933\n",
      "Epoch 46/100\n",
      "3354/3354 [==============================] - 9s 3ms/step - loss: 0.0767 - val_loss: 0.0927\n",
      "Epoch 47/100\n",
      "3354/3354 [==============================] - 9s 3ms/step - loss: 0.0771 - val_loss: 0.0921\n",
      "Epoch 48/100\n",
      "3354/3354 [==============================] - 11s 3ms/step - loss: 0.0768 - val_loss: 0.0929\n",
      "Epoch 49/100\n",
      "3354/3354 [==============================] - 13s 4ms/step - loss: 0.0781 - val_loss: 0.0938\n",
      "Epoch 50/100\n",
      "3354/3354 [==============================] - 13s 4ms/step - loss: 0.0745 - val_loss: 0.0924\n",
      "Epoch 51/100\n",
      "3354/3354 [==============================] - 17s 5ms/step - loss: 0.0757 - val_loss: 0.0936\n",
      "Epoch 52/100\n",
      "3354/3354 [==============================] - 10s 3ms/step - loss: 0.0755 - val_loss: 0.0937\n",
      "Epoch 53/100\n",
      "3354/3354 [==============================] - 8s 2ms/step - loss: 0.0755 - val_loss: 0.0933\n",
      "Epoch 54/100\n",
      "3354/3354 [==============================] - 8s 2ms/step - loss: 0.0763 - val_loss: 0.0922\n",
      "Epoch 55/100\n",
      "3354/3354 [==============================] - 9s 3ms/step - loss: 0.0764 - val_loss: 0.0932\n",
      "Epoch 56/100\n",
      "3354/3354 [==============================] - 8s 2ms/step - loss: 0.0753 - val_loss: 0.0929\n",
      "Epoch 57/100\n",
      "3354/3354 [==============================] - 9s 3ms/step - loss: 0.0745 - val_loss: 0.0964\n",
      "Epoch 58/100\n",
      "3354/3354 [==============================] - 7s 2ms/step - loss: 0.0765 - val_loss: 0.0965\n",
      "Epoch 59/100\n",
      "3354/3354 [==============================] - 8s 2ms/step - loss: 0.0745 - val_loss: 0.0929\n",
      "Epoch 60/100\n",
      "3354/3354 [==============================] - 8s 2ms/step - loss: 0.0752 - val_loss: 0.0930\n",
      "Epoch 61/100\n",
      "3354/3354 [==============================] - 9s 3ms/step - loss: 0.0734 - val_loss: 0.0949\n",
      "Epoch 62/100\n",
      "3354/3354 [==============================] - 8s 2ms/step - loss: 0.0741 - val_loss: 0.0946\n",
      "Epoch 63/100\n",
      "3354/3354 [==============================] - 8s 2ms/step - loss: 0.0756 - val_loss: 0.0952\n",
      "Epoch 64/100\n",
      "3354/3354 [==============================] - 8s 2ms/step - loss: 0.0729 - val_loss: 0.0945\n",
      "Epoch 65/100\n",
      "3354/3354 [==============================] - 9s 3ms/step - loss: 0.0758 - val_loss: 0.0948\n",
      "Epoch 66/100\n",
      "3354/3354 [==============================] - 8s 2ms/step - loss: 0.0730 - val_loss: 0.0960\n",
      "Epoch 67/100\n",
      "3354/3354 [==============================] - 9s 3ms/step - loss: 0.0727 - val_loss: 0.0933\n",
      "Epoch 68/100\n",
      "3354/3354 [==============================] - 8s 2ms/step - loss: 0.0742 - val_loss: 0.0941\n",
      "Epoch 69/100\n",
      "3354/3354 [==============================] - 8s 2ms/step - loss: 0.0733 - val_loss: 0.0964\n",
      "Epoch 70/100\n",
      "3354/3354 [==============================] - 8s 2ms/step - loss: 0.0727 - val_loss: 0.0954\n",
      "Epoch 71/100\n",
      "3354/3354 [==============================] - 8s 2ms/step - loss: 0.0726 - val_loss: 0.0951\n",
      "Epoch 72/100\n",
      "3354/3354 [==============================] - 7s 2ms/step - loss: 0.0726 - val_loss: 0.0966\n",
      "Epoch 73/100\n",
      "3354/3354 [==============================] - 8s 2ms/step - loss: 0.0740 - val_loss: 0.0948\n",
      "Epoch 74/100\n",
      "3354/3354 [==============================] - 7s 2ms/step - loss: 0.0721 - val_loss: 0.0941\n",
      "Epoch 75/100\n",
      "3354/3354 [==============================] - 8s 2ms/step - loss: 0.0723 - val_loss: 0.0972\n",
      "Epoch 76/100\n",
      "3354/3354 [==============================] - 8s 2ms/step - loss: 0.0744 - val_loss: 0.0971\n",
      "Epoch 77/100\n",
      "3354/3354 [==============================] - 9s 3ms/step - loss: 0.0729 - val_loss: 0.0942\n",
      "Epoch 78/100\n",
      "3354/3354 [==============================] - 8s 2ms/step - loss: 0.0747 - val_loss: 0.0982\n",
      "Epoch 79/100\n"
     ]
    },
    {
     "name": "stdout",
     "output_type": "stream",
     "text": [
      "3354/3354 [==============================] - 9s 3ms/step - loss: 0.0731 - val_loss: 0.0979\n",
      "Epoch 80/100\n",
      "3354/3354 [==============================] - 9s 3ms/step - loss: 0.0723 - val_loss: 0.0966\n",
      "Epoch 81/100\n",
      "3354/3354 [==============================] - 9s 3ms/step - loss: 0.0721 - val_loss: 0.0988\n",
      "Epoch 82/100\n",
      "3354/3354 [==============================] - 13s 4ms/step - loss: 0.0713 - val_loss: 0.0929\n",
      "Epoch 83/100\n",
      "3354/3354 [==============================] - 13s 4ms/step - loss: 0.0720 - val_loss: 0.0963\n",
      "Epoch 84/100\n",
      "3354/3354 [==============================] - 14s 4ms/step - loss: 0.0714 - val_loss: 0.0945\n",
      "Epoch 85/100\n",
      "3354/3354 [==============================] - 14s 4ms/step - loss: 0.0718 - val_loss: 0.0936\n",
      "Epoch 86/100\n",
      "3354/3354 [==============================] - 13s 4ms/step - loss: 0.0716 - val_loss: 0.0953\n",
      "Epoch 87/100\n",
      "3354/3354 [==============================] - 9s 3ms/step - loss: 0.0725 - val_loss: 0.0953\n",
      "Epoch 88/100\n",
      "3354/3354 [==============================] - 8s 2ms/step - loss: 0.0723 - val_loss: 0.0954\n",
      "Epoch 89/100\n",
      "3354/3354 [==============================] - 9s 3ms/step - loss: 0.0707 - val_loss: 0.0976\n",
      "Epoch 90/100\n",
      "3354/3354 [==============================] - 8s 3ms/step - loss: 0.0716 - val_loss: 0.1029\n",
      "Epoch 91/100\n",
      "3354/3354 [==============================] - 9s 3ms/step - loss: 0.0717 - val_loss: 0.0981\n",
      "Epoch 92/100\n",
      "3354/3354 [==============================] - 8s 2ms/step - loss: 0.0706 - val_loss: 0.0955\n",
      "Epoch 93/100\n",
      "3354/3354 [==============================] - 8s 2ms/step - loss: 0.0705 - val_loss: 0.0993\n",
      "Epoch 94/100\n",
      "3354/3354 [==============================] - 8s 2ms/step - loss: 0.0714 - val_loss: 0.0976\n",
      "Epoch 95/100\n",
      "3354/3354 [==============================] - 8s 3ms/step - loss: 0.0702 - val_loss: 0.0967\n",
      "Epoch 96/100\n",
      "3354/3354 [==============================] - 9s 3ms/step - loss: 0.0716 - val_loss: 0.0945\n",
      "Epoch 97/100\n",
      "3354/3354 [==============================] - 9s 3ms/step - loss: 0.0704 - val_loss: 0.0974\n",
      "Epoch 98/100\n",
      "3354/3354 [==============================] - 11s 3ms/step - loss: 0.0706 - val_loss: 0.0963\n",
      "Epoch 99/100\n",
      "3354/3354 [==============================] - 12s 4ms/step - loss: 0.0694 - val_loss: 0.0959\n",
      "Epoch 100/100\n",
      "3354/3354 [==============================] - 14s 4ms/step - loss: 0.0712 - val_loss: 0.0968\n"
     ]
    }
   ],
   "source": [
    "r = model.fit(X_train, y_train,\n",
    "              validation_data=(X_test,y_test),\n",
    "              batch_size=30,\n",
    "              epochs=100)"
   ]
  },
  {
   "cell_type": "code",
   "execution_count": 41,
   "metadata": {},
   "outputs": [
    {
     "data": {
      "text/plain": [
       "<matplotlib.legend.Legend at 0x2430058a6d0>"
      ]
     },
     "execution_count": 41,
     "metadata": {},
     "output_type": "execute_result"
    },
    {
     "data": {
      "image/png": "[encoded data removed]",
      "text/plain": [
       "<Figure size 720x432 with 1 Axes>"
      ]
     },
     "metadata": {
      "needs_background": "light"
     },
     "output_type": "display_data"
    }
   ],
   "source": [
    "import matplotlib.pyplot as plt\n",
    "\n",
    "plt.figure(figsize=(10, 6))\n",
    "\n",
    "plt.plot(r.history['loss'], label='loss')\n",
    "plt.plot(r.history['val_loss'], label='val_loss')\n",
    "plt.legend()"
   ]
  },
  {
   "cell_type": "code",
   "execution_count": 42,
   "metadata": {},
   "outputs": [],
   "source": [
    "from sklearn import metrics\n",
    "from sklearn.model_selection import cross_val_score\n",
    "\n",
    "def cross_val(model):\n",
    "    pred = cross_val_score(model, X, y, cv=10)\n",
    "    return pred.mean()\n",
    "\n",
    "def print_evaluate(true, predicted):  \n",
    "    mae = metrics.mean_absolute_error(true, predicted)\n",
    "    mse = metrics.mean_squared_error(true, predicted)\n",
    "    rmse = np.sqrt(metrics.mean_squared_error(true, predicted))\n",
    "    r2_square = metrics.r2_score(true, predicted)\n",
    "    print('MAE:', mae)\n",
    "    print('MSE:', mse)\n",
    "    print('RMSE:', rmse)\n",
    "    print('R2 Square', r2_square)\n",
    "    \n",
    "def evaluate(true, predicted):\n",
    "    mae = metrics.mean_absolute_error(true, predicted)\n",
    "    mse = metrics.mean_squared_error(true, predicted)\n",
    "    rmse = np.sqrt(metrics.mean_squared_error(true, predicted))\n",
    "    r2_square = metrics.r2_score(true, predicted)\n",
    "    return mae, mse, rmse, r2_square"
   ]
  },
  {
   "cell_type": "code",
   "execution_count": 43,
   "metadata": {},
   "outputs": [
    {
     "name": "stdout",
     "output_type": "stream",
     "text": [
      "Test set evaluation:\n",
      "_____________________________________\n",
      "MAE: 0.20302320815061103\n",
      "MSE: 0.09677521192393233\n",
      "RMSE: 0.3110871452245051\n",
      "R2 Square 0.4516514768234212\n"
     ]
    }
   ],
   "source": [
    "test_pred = model.predict(X_test)\n",
    "# train_pred = model.predict(X_train)\n",
    "\n",
    "print('Test set evaluation:\\n_____________________________________')\n",
    "print_evaluate(y_test, test_pred)\n",
    "\n",
    "# print('Train set evaluation:\\n_____________________________________')\n",
    "# print_evaluate(y_train, train_pred)"
   ]
  },
  {
   "cell_type": "code",
   "execution_count": 9,
   "metadata": {},
   "outputs": [
    {
     "name": "stdout",
     "output_type": "stream",
     "text": [
      "1348/1348 [==============================] - 40s 30ms/step - loss: 0.0170 0s - lo\n",
      "0.01697719283401966\n"
     ]
    }
   ],
   "source": [
    "result = model.evaluate(X_test, y_test)\n",
    "print(result)"
   ]
  },
  {
   "cell_type": "code",
   "execution_count": 10,
   "metadata": {},
   "outputs": [],
   "source": [
    "#save model\n",
    "model.save_weights('Sequential_1.h5')\n",
    "model_json = model.to_json()\n",
    "with open('Sequential_1.json', \"w\") as json_file:\n",
    "    json_file.write(model_json)"
   ]
  },
  {
   "cell_type": "code",
   "execution_count": null,
   "metadata": {},
   "outputs": [],
   "source": [
    "# Load Model\n",
    "# from tensorflow.python.keras.models import Sequential\n",
    "# from tensorflow.python.keras.layers import Dense, Dropout, Activation, LSTM\n",
    "# import tensorflow as tf\n",
    "\n",
    "# json_file = open('Sequential.json', 'r')\n",
    "# loaded_model_json = json_file.read()\n",
    "# model = tf.keras.models.model_from_json(loaded_model_json)\n",
    "# model.load_weights('Sequential.h5')"
   ]
  },
  {
   "cell_type": "code",
   "execution_count": 44,
   "metadata": {},
   "outputs": [],
   "source": [
    "model.save('Sequential_3.h5')"
   ]
  },
  {
   "cell_type": "code",
   "execution_count": null,
   "metadata": {},
   "outputs": [],
   "source": [
    "# new_model = keras.models.load_model('dnn_mnist_model.h5')\n",
    "# new_model.summary()"
   ]
  }
 ],
 "metadata": {
  "kernelspec": {
   "display_name": "Python 3",
   "language": "python",
   "name": "python3"
  },
  "language_info": {
   "codemirror_mode": {
    "name": "ipython",
    "version": 3
   },
   "file_extension": ".py",
   "mimetype": "text/x-python",
   "name": "python",
   "nbconvert_exporter": "python",
   "pygments_lexer": "ipython3",
   "version": "3.8.5"
  }
 },
 "nbformat": 4,
 "nbformat_minor": 4
}
