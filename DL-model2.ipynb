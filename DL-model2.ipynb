{
 "cells": [
  {
   "cell_type": "code",
   "execution_count": 2,
   "metadata": {},
   "outputs": [
    {
     "name": "stdout",
     "output_type": "stream",
     "text": [
      "(100594, 74)\n",
      "(100594,)\n"
     ]
    }
   ],
   "source": [
    "import pandas as pd\n",
    "import numpy as np\n",
    "import tensorflow as tf\n",
    "import matplotlib as plt\n",
    "from sklearn.model_selection import train_test_split\n",
    "from tensorflow.keras.models import Sequential\n",
    "from tensorflow.keras.layers import Input, Dense, Activation, Dropout\n",
    "from tensorflow.keras.optimizers import Adam\n",
    "tf.compat.v1.reset_default_graph()\n",
    "\n",
    "df = pd.read_csv('house_data-no.csv')\n",
    "\n",
    "y = df['建物單價元/坪']\n",
    "X = df.drop(['建物單價元/坪'], axis=1)\n",
    "\n",
    "X_train, X_test, y_train, y_test = train_test_split(X, y, test_size=0.3)\n",
    "\n",
    "X_train = np.array(X_train)\n",
    "X_test = np.array(X_test)\n",
    "y_train = np.array(y_train)\n",
    "y_test = np.array(y_test)\n",
    "\n",
    "print(X_train.shape)\n",
    "print(y_train.shape)"
   ]
  },
  {
   "cell_type": "code",
   "execution_count": 9,
   "metadata": {},
   "outputs": [
    {
     "name": "stdout",
     "output_type": "stream",
     "text": [
      "Model: \"sequential\"\n",
      "_________________________________________________________________\n",
      "Layer (type)                 Output Shape              Param #   \n",
      "=================================================================\n",
      "dense (Dense)                (None, 32)                2400      \n",
      "_________________________________________________________________\n",
      "dense_1 (Dense)              (None, 64)                2112      \n",
      "_________________________________________________________________\n",
      "dense_2 (Dense)              (None, 128)               8320      \n",
      "_________________________________________________________________\n",
      "dense_3 (Dense)              (None, 256)               33024     \n",
      "_________________________________________________________________\n",
      "dense_4 (Dense)              (None, 1)                 257       \n",
      "=================================================================\n",
      "Total params: 46,113\n",
      "Trainable params: 46,113\n",
      "Non-trainable params: 0\n",
      "_________________________________________________________________\n"
     ]
    }
   ],
   "source": [
    "import tensorflow as tf\n",
    "from tensorflow import keras\n",
    "from tensorflow.keras import layers\n",
    "tf.compat.v1.reset_default_graph()\n",
    "\n",
    "model = Sequential([\n",
    "    layers.Dense(32, activation='relu', input_shape=(X_train.shape[1],)),\n",
    "#     layers.Dropout(0.2),\n",
    "    layers.Dense(64, activation='relu'),\n",
    "#     layers.Dropout(0.2),\n",
    "    layers.Dense(128, activation='relu'),\n",
    "#     layers.Dropout(0.1),\n",
    "    layers.Dense(256, activation='relu'),\n",
    "    layers.Dense(1)\n",
    "])\n",
    "\n",
    "model.compile(optimizer=Adam(0.0001), loss='mse')\n",
    "\n",
    "model.summary()"
   ]
  },
  {
   "cell_type": "code",
   "execution_count": 10,
   "metadata": {
    "scrolled": true
   },
   "outputs": [
    {
     "name": "stdout",
     "output_type": "stream",
     "text": [
      "Epoch 1/100\n",
      "3354/3354 [==============================] - 7s 2ms/step - loss: 0.4305 - val_loss: 0.1075\n",
      "Epoch 2/100\n",
      "3354/3354 [==============================] - 6s 2ms/step - loss: 0.1069 - val_loss: 0.0993\n",
      "Epoch 3/100\n",
      "3354/3354 [==============================] - 6s 2ms/step - loss: 0.1035 - val_loss: 0.0962\n",
      "Epoch 4/100\n",
      "3354/3354 [==============================] - 6s 2ms/step - loss: 0.1002 - val_loss: 0.0975\n",
      "Epoch 5/100\n",
      "3354/3354 [==============================] - 6s 2ms/step - loss: 0.0969 - val_loss: 0.0964\n",
      "Epoch 6/100\n",
      "3354/3354 [==============================] - 5s 2ms/step - loss: 0.0955 - val_loss: 0.0936\n",
      "Epoch 7/100\n",
      "3354/3354 [==============================] - 6s 2ms/step - loss: 0.0959 - val_loss: 0.0981\n",
      "Epoch 8/100\n",
      "3354/3354 [==============================] - 6s 2ms/step - loss: 0.0959 - val_loss: 0.0936\n",
      "Epoch 9/100\n",
      "3354/3354 [==============================] - 7s 2ms/step - loss: 0.0933 - val_loss: 0.0937\n",
      "Epoch 10/100\n",
      "3354/3354 [==============================] - 7s 2ms/step - loss: 0.0946 - val_loss: 0.0961\n",
      "Epoch 11/100\n",
      "3354/3354 [==============================] - 7s 2ms/step - loss: 0.0918 - val_loss: 0.0948\n",
      "Epoch 12/100\n",
      "3354/3354 [==============================] - 7s 2ms/step - loss: 0.0927 - val_loss: 0.0958\n",
      "Epoch 13/100\n",
      "3354/3354 [==============================] - 6s 2ms/step - loss: 0.0914 - val_loss: 0.0966\n",
      "Epoch 14/100\n",
      "3354/3354 [==============================] - 6s 2ms/step - loss: 0.0912 - val_loss: 0.0933\n",
      "Epoch 15/100\n",
      "3354/3354 [==============================] - 6s 2ms/step - loss: 0.0909 - val_loss: 0.0926\n",
      "Epoch 16/100\n",
      "3354/3354 [==============================] - 6s 2ms/step - loss: 0.0883 - val_loss: 0.0931\n",
      "Epoch 17/100\n",
      "3354/3354 [==============================] - 6s 2ms/step - loss: 0.0886 - val_loss: 0.0927\n",
      "Epoch 18/100\n",
      "3354/3354 [==============================] - 6s 2ms/step - loss: 0.0895 - val_loss: 0.0954\n",
      "Epoch 19/100\n",
      "3354/3354 [==============================] - 6s 2ms/step - loss: 0.0892 - val_loss: 0.0926\n",
      "Epoch 20/100\n",
      "3354/3354 [==============================] - 6s 2ms/step - loss: 0.0877 - val_loss: 0.0994\n",
      "Epoch 21/100\n",
      "3354/3354 [==============================] - 6s 2ms/step - loss: 0.0888 - val_loss: 0.0952\n",
      "Epoch 22/100\n",
      "3354/3354 [==============================] - 6s 2ms/step - loss: 0.0883 - val_loss: 0.0925\n",
      "Epoch 23/100\n",
      "3354/3354 [==============================] - 6s 2ms/step - loss: 0.0901 - val_loss: 0.0945\n",
      "Epoch 24/100\n",
      "3354/3354 [==============================] - 6s 2ms/step - loss: 0.0880 - val_loss: 0.0944\n",
      "Epoch 25/100\n",
      "3354/3354 [==============================] - 6s 2ms/step - loss: 0.0888 - val_loss: 0.0949\n",
      "Epoch 26/100\n",
      "3354/3354 [==============================] - 6s 2ms/step - loss: 0.0880 - val_loss: 0.0987\n",
      "Epoch 27/100\n",
      "3354/3354 [==============================] - 6s 2ms/step - loss: 0.0873 - val_loss: 0.0933\n",
      "Epoch 28/100\n",
      "3354/3354 [==============================] - 7s 2ms/step - loss: 0.0867 - val_loss: 0.0948\n",
      "Epoch 29/100\n",
      "3354/3354 [==============================] - 6s 2ms/step - loss: 0.0868 - val_loss: 0.0939\n",
      "Epoch 30/100\n",
      "3354/3354 [==============================] - 6s 2ms/step - loss: 0.0882 - val_loss: 0.0931\n",
      "Epoch 31/100\n",
      "3354/3354 [==============================] - 6s 2ms/step - loss: 0.0872 - val_loss: 0.0954\n",
      "Epoch 32/100\n",
      "3354/3354 [==============================] - 6s 2ms/step - loss: 0.0853 - val_loss: 0.0938\n",
      "Epoch 33/100\n",
      "3354/3354 [==============================] - 6s 2ms/step - loss: 0.0872 - val_loss: 0.0936\n",
      "Epoch 34/100\n",
      "3354/3354 [==============================] - 6s 2ms/step - loss: 0.0859 - val_loss: 0.0961\n",
      "Epoch 35/100\n",
      "3354/3354 [==============================] - 6s 2ms/step - loss: 0.0860 - val_loss: 0.0921\n",
      "Epoch 36/100\n",
      "3354/3354 [==============================] - 6s 2ms/step - loss: 0.0851 - val_loss: 0.0989\n",
      "Epoch 37/100\n",
      "3354/3354 [==============================] - 6s 2ms/step - loss: 0.0852 - val_loss: 0.0953\n",
      "Epoch 38/100\n",
      "3354/3354 [==============================] - 6s 2ms/step - loss: 0.0847 - val_loss: 0.0984\n",
      "Epoch 39/100\n",
      "3354/3354 [==============================] - 6s 2ms/step - loss: 0.0859 - val_loss: 0.0947\n",
      "Epoch 40/100\n",
      "3354/3354 [==============================] - 6s 2ms/step - loss: 0.0836 - val_loss: 0.0933\n",
      "Epoch 41/100\n",
      "3354/3354 [==============================] - 7s 2ms/step - loss: 0.0849 - val_loss: 0.0930\n",
      "Epoch 42/100\n",
      "3354/3354 [==============================] - 7s 2ms/step - loss: 0.0838 - val_loss: 0.0938\n",
      "Epoch 43/100\n",
      "3354/3354 [==============================] - 7s 2ms/step - loss: 0.0842 - val_loss: 0.0929\n",
      "Epoch 44/100\n",
      "3354/3354 [==============================] - 8s 3ms/step - loss: 0.0838 - val_loss: 0.0952\n",
      "Epoch 45/100\n",
      "3354/3354 [==============================] - 8s 2ms/step - loss: 0.0837 - val_loss: 0.0930\n",
      "Epoch 46/100\n",
      "3354/3354 [==============================] - 6s 2ms/step - loss: 0.0825 - val_loss: 0.0959\n",
      "Epoch 47/100\n",
      "3354/3354 [==============================] - 6s 2ms/step - loss: 0.0838 - val_loss: 0.0931\n",
      "Epoch 48/100\n",
      "3354/3354 [==============================] - 6s 2ms/step - loss: 0.0835 - val_loss: 0.0934\n",
      "Epoch 49/100\n",
      "3354/3354 [==============================] - 6s 2ms/step - loss: 0.0827 - val_loss: 0.0953\n",
      "Epoch 50/100\n",
      "3354/3354 [==============================] - 6s 2ms/step - loss: 0.0837 - val_loss: 0.0936\n",
      "Epoch 51/100\n",
      "3354/3354 [==============================] - 6s 2ms/step - loss: 0.0824 - val_loss: 0.0944\n",
      "Epoch 52/100\n",
      "3354/3354 [==============================] - 6s 2ms/step - loss: 0.0830 - val_loss: 0.0931\n",
      "Epoch 53/100\n",
      "3354/3354 [==============================] - 6s 2ms/step - loss: 0.0832 - val_loss: 0.0936\n",
      "Epoch 54/100\n",
      "3354/3354 [==============================] - 6s 2ms/step - loss: 0.0821 - val_loss: 0.0944\n",
      "Epoch 55/100\n",
      "3354/3354 [==============================] - 6s 2ms/step - loss: 0.0838 - val_loss: 0.0943\n",
      "Epoch 56/100\n",
      "3354/3354 [==============================] - 6s 2ms/step - loss: 0.0826 - val_loss: 0.0944\n",
      "Epoch 57/100\n",
      "3354/3354 [==============================] - 6s 2ms/step - loss: 0.0819 - val_loss: 0.0942\n",
      "Epoch 58/100\n",
      "3354/3354 [==============================] - 6s 2ms/step - loss: 0.0815 - val_loss: 0.0955\n",
      "Epoch 59/100\n",
      "3354/3354 [==============================] - 6s 2ms/step - loss: 0.0808 - val_loss: 0.0959\n",
      "Epoch 60/100\n",
      "3354/3354 [==============================] - 6s 2ms/step - loss: 0.0818 - val_loss: 0.0948\n",
      "Epoch 61/100\n",
      "3354/3354 [==============================] - 6s 2ms/step - loss: 0.0820 - val_loss: 0.0949\n",
      "Epoch 62/100\n",
      "3354/3354 [==============================] - 6s 2ms/step - loss: 0.0806 - val_loss: 0.0939\n",
      "Epoch 63/100\n",
      "3354/3354 [==============================] - 6s 2ms/step - loss: 0.0824 - val_loss: 0.0942\n",
      "Epoch 64/100\n",
      "3354/3354 [==============================] - 6s 2ms/step - loss: 0.0819 - val_loss: 0.0946\n",
      "Epoch 65/100\n",
      "3354/3354 [==============================] - 6s 2ms/step - loss: 0.0813 - val_loss: 0.0952\n",
      "Epoch 66/100\n",
      "3354/3354 [==============================] - 6s 2ms/step - loss: 0.0823 - val_loss: 0.0946\n",
      "Epoch 67/100\n",
      "3354/3354 [==============================] - 6s 2ms/step - loss: 0.0817 - val_loss: 0.0947\n",
      "Epoch 68/100\n",
      "3354/3354 [==============================] - 6s 2ms/step - loss: 0.0831 - val_loss: 0.0929\n",
      "Epoch 69/100\n",
      "3354/3354 [==============================] - 6s 2ms/step - loss: 0.0809 - val_loss: 0.0952\n",
      "Epoch 70/100\n",
      "3354/3354 [==============================] - 6s 2ms/step - loss: 0.0812 - val_loss: 0.0944\n",
      "Epoch 71/100\n",
      "3354/3354 [==============================] - 6s 2ms/step - loss: 0.0804 - val_loss: 0.0933\n",
      "Epoch 72/100\n",
      "3354/3354 [==============================] - 6s 2ms/step - loss: 0.0824 - val_loss: 0.0950\n",
      "Epoch 73/100\n",
      "3354/3354 [==============================] - 6s 2ms/step - loss: 0.0822 - val_loss: 0.0937\n",
      "Epoch 74/100\n",
      "3354/3354 [==============================] - 6s 2ms/step - loss: 0.0802 - val_loss: 0.0946\n",
      "Epoch 75/100\n",
      "3354/3354 [==============================] - 6s 2ms/step - loss: 0.0804 - val_loss: 0.0954\n",
      "Epoch 76/100\n",
      "3354/3354 [==============================] - 6s 2ms/step - loss: 0.0820 - val_loss: 0.0973\n",
      "Epoch 77/100\n",
      "3354/3354 [==============================] - 6s 2ms/step - loss: 0.0810 - val_loss: 0.0963\n",
      "Epoch 78/100\n",
      "3354/3354 [==============================] - 7s 2ms/step - loss: 0.0814 - val_loss: 0.0963\n",
      "Epoch 79/100\n",
      "3354/3354 [==============================] - 6s 2ms/step - loss: 0.0801 - val_loss: 0.0949\n"
     ]
    },
    {
     "name": "stdout",
     "output_type": "stream",
     "text": [
      "Epoch 80/100\n",
      "3354/3354 [==============================] - 6s 2ms/step - loss: 0.0809 - val_loss: 0.0946\n",
      "Epoch 81/100\n",
      "3354/3354 [==============================] - 6s 2ms/step - loss: 0.0828 - val_loss: 0.0955\n",
      "Epoch 82/100\n",
      "3354/3354 [==============================] - 6s 2ms/step - loss: 0.0804 - val_loss: 0.0937\n",
      "Epoch 83/100\n",
      "3354/3354 [==============================] - 6s 2ms/step - loss: 0.0809 - val_loss: 0.0951\n",
      "Epoch 84/100\n",
      "3354/3354 [==============================] - 6s 2ms/step - loss: 0.0812 - val_loss: 0.0939\n",
      "Epoch 85/100\n",
      "3354/3354 [==============================] - 5s 2ms/step - loss: 0.0805 - val_loss: 0.0973\n",
      "Epoch 86/100\n",
      "3354/3354 [==============================] - 6s 2ms/step - loss: 0.0801 - val_loss: 0.0949\n",
      "Epoch 87/100\n",
      "3354/3354 [==============================] - 5s 2ms/step - loss: 0.0808 - val_loss: 0.0979\n",
      "Epoch 88/100\n",
      "3354/3354 [==============================] - 5s 1ms/step - loss: 0.0810 - val_loss: 0.0951\n",
      "Epoch 89/100\n",
      "3354/3354 [==============================] - 5s 2ms/step - loss: 0.0789 - val_loss: 0.0947\n",
      "Epoch 90/100\n",
      "3354/3354 [==============================] - 5s 1ms/step - loss: 0.0790 - val_loss: 0.0950\n",
      "Epoch 91/100\n",
      "3354/3354 [==============================] - 5s 1ms/step - loss: 0.0807 - val_loss: 0.0948\n",
      "Epoch 92/100\n",
      "3354/3354 [==============================] - 6s 2ms/step - loss: 0.0805 - val_loss: 0.0947\n",
      "Epoch 93/100\n",
      "3354/3354 [==============================] - 6s 2ms/step - loss: 0.0804 - val_loss: 0.0958\n",
      "Epoch 94/100\n",
      "3354/3354 [==============================] - 6s 2ms/step - loss: 0.0795 - val_loss: 0.0942\n",
      "Epoch 95/100\n",
      "3354/3354 [==============================] - 7s 2ms/step - loss: 0.0802 - val_loss: 0.0950\n",
      "Epoch 96/100\n",
      "3354/3354 [==============================] - 7s 2ms/step - loss: 0.0794 - val_loss: 0.0954\n",
      "Epoch 97/100\n",
      "3354/3354 [==============================] - 8s 2ms/step - loss: 0.0798 - val_loss: 0.0945\n",
      "Epoch 98/100\n",
      "3354/3354 [==============================] - 8s 2ms/step - loss: 0.0800 - val_loss: 0.0951\n",
      "Epoch 99/100\n",
      "3354/3354 [==============================] - 10s 3ms/step - loss: 0.0808 - val_loss: 0.0943\n",
      "Epoch 100/100\n",
      "3354/3354 [==============================] - 9s 3ms/step - loss: 0.0782 - val_loss: 0.0975\n"
     ]
    }
   ],
   "source": [
    "r = model.fit(X_train, y_train,\n",
    "              validation_data=(X_test,y_test),\n",
    "              batch_size=30,\n",
    "              epochs=100)"
   ]
  },
  {
   "cell_type": "code",
   "execution_count": 11,
   "metadata": {},
   "outputs": [
    {
     "data": {
      "text/plain": [
       "<matplotlib.legend.Legend at 0x22b0b99b970>"
      ]
     },
     "execution_count": 11,
     "metadata": {},
     "output_type": "execute_result"
    },
    {
     "data": {
      "image/png": "[encoded data removed]",
      "text/plain": [
       "<Figure size 720x432 with 1 Axes>"
      ]
     },
     "metadata": {
      "needs_background": "light"
     },
     "output_type": "display_data"
    }
   ],
   "source": [
    "import matplotlib.pyplot as plt\n",
    "plt.figure(figsize=(10, 6))\n",
    "\n",
    "plt.plot(r.history['loss'], label='loss')\n",
    "plt.plot(r.history['val_loss'], label='val_loss')\n",
    "plt.legend()"
   ]
  },
  {
   "cell_type": "code",
   "execution_count": 12,
   "metadata": {},
   "outputs": [],
   "source": [
    "from sklearn import metrics\n",
    "\n",
    "def print_evaluate(true, predicted):  \n",
    "    mae = metrics.mean_absolute_error(true, predicted)\n",
    "    mse = metrics.mean_squared_error(true, predicted)\n",
    "    rmse = np.sqrt(metrics.mean_squared_error(true, predicted))\n",
    "    r2_square = metrics.r2_score(true, predicted)\n",
    "    print('MAE:', mae)\n",
    "    print('MSE:', mse)\n",
    "    print('RMSE:', rmse)\n",
    "    print('R2 Square', r2_square)"
   ]
  },
  {
   "cell_type": "code",
   "execution_count": 13,
   "metadata": {},
   "outputs": [
    {
     "name": "stdout",
     "output_type": "stream",
     "text": [
      "Test set evaluation:\n",
      "_____________________________________\n",
      "MAE: 0.20430403740138714\n",
      "MSE: 0.09749677193165769\n",
      "RMSE: 0.3122447308308944\n",
      "R2 Square 0.4419886713377934\n",
      "====================================================================================================\n",
      "Train set evaluation:\n",
      "_____________________________________\n",
      "MAE: 0.18743978844568376\n",
      "MSE: 0.07886755558659685\n",
      "RMSE: 0.2808336795802755\n",
      "R2 Square 0.551252146037103\n"
     ]
    }
   ],
   "source": [
    "test_pred = model.predict(X_test)\n",
    "train_pred = model.predict(X_train)\n",
    "\n",
    "print('Test set evaluation:\\n_____________________________________')\n",
    "print_evaluate(y_test, test_pred)\n",
    "print('='*100)\n",
    "print('Train set evaluation:\\n_____________________________________')\n",
    "print_evaluate(y_train, train_pred)"
   ]
  },
  {
   "cell_type": "code",
   "execution_count": 16,
   "metadata": {},
   "outputs": [
    {
     "name": "stdout",
     "output_type": "stream",
     "text": [
      "1348/1348 [==============================] - 2s 2ms/step - loss: 0.0975\n",
      "0.09749679267406464\n"
     ]
    }
   ],
   "source": [
    "result = model.evaluate(X_test, y_test)\n",
    "print(result)"
   ]
  },
  {
   "cell_type": "code",
   "execution_count": 17,
   "metadata": {},
   "outputs": [],
   "source": [
    "model.save('price_model.h5')"
   ]
  },
  {
   "cell_type": "code",
   "execution_count": 18,
   "metadata": {},
   "outputs": [],
   "source": [
    "# new_model = keras.models.load_model('dnn_mnist_model.h5')\n",
    "# new_model.summary()"
   ]
  }
 ],
 "metadata": {
  "kernelspec": {
   "display_name": "Python 3",
   "language": "python",
   "name": "python3"
  },
  "language_info": {
   "codemirror_mode": {
    "name": "ipython",
    "version": 3
   },
   "file_extension": ".py",
   "mimetype": "text/x-python",
   "name": "python",
   "nbconvert_exporter": "python",
   "pygments_lexer": "ipython3",
   "version": "3.8.5"
  }
 },
 "nbformat": 4,
 "nbformat_minor": 4
}
